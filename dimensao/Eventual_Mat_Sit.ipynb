{
 "cells": [
  {
   "cell_type": "markdown",
   "id": "bb91f815-49b2-40a2-82e1-e12fbc3f7c9d",
   "metadata": {
    "tags": []
   },
   "source": [
    "### ETL - DIMENSAO MATERIAL"
   ]
  },
  {
   "cell_type": "code",
   "execution_count": 3,
   "id": "fbcfca6a-399f-493f-b73b-7a6892185e3b",
   "metadata": {},
   "outputs": [],
   "source": [
    "import pyodbc\n",
    "import pandas as pd\n",
    "from dotenv import load_dotenv\n",
    "import os\n",
    "import runipy\n",
    "import datetime\n",
    "import calendar\n",
    "from datetime import date\n",
    "import holidays\n",
    "import numpy as np"
   ]
  },
  {
   "cell_type": "code",
   "execution_count": 4,
   "id": "8c57a8ef-4826-4d03-a091-5d2331b071d7",
   "metadata": {},
   "outputs": [
    {
     "data": {
      "text/plain": [
       "True"
      ]
     },
     "execution_count": 4,
     "metadata": {},
     "output_type": "execute_result"
    }
   ],
   "source": [
    "load_dotenv(\"keys.env\",override=True)"
   ]
  },
  {
   "cell_type": "code",
   "execution_count": 5,
   "id": "17a64a16-7402-4638-9490-42e6e7634f57",
   "metadata": {},
   "outputs": [],
   "source": [
    "driver = os.environ['DRIVER']\n",
    "server = os.environ['SERVER']\n",
    "database = os.environ['DATABASE']"
   ]
  },
  {
   "cell_type": "code",
   "execution_count": 6,
   "id": "b2537fca-4fc6-4dd1-8781-7eea18a9345e",
   "metadata": {},
   "outputs": [],
   "source": [
    "### funcoes \n",
    "\n",
    "def conexao(driver, server, database):\n",
    "    \n",
    "    cnxn_str = (f\"Driver={str(driver)};\"\n",
    "                f\"Server={str(server)};\"\n",
    "                f\"Database={str(database)};\"\n",
    "                \"Trusted_Connection=yes;\")\n",
    "    cnxn = pyodbc.connect(cnxn_str)\n",
    "    return cnxn\n",
    "\n",
    "\n",
    "def truncate_table(driver, server, database, tabela_destino):\n",
    "    \n",
    "    con = conexao(driver, server, database)\n",
    "    \n",
    "    truncate = f\"\"\"TRUNCATE TABLE {tabela_destino} \"\"\"\n",
    "    \n",
    "    cursor = con.cursor()\n",
    "    cursor.execute(truncate)\n",
    "    \n",
    "    con.commit()\n",
    "    cursor.close()\n",
    "    \n",
    "    return"
   ]
  },
  {
   "cell_type": "code",
   "execution_count": 7,
   "id": "5ce3d9e8-5889-4d15-b7de-ed5d964e1d3b",
   "metadata": {},
   "outputs": [
    {
     "name": "stdout",
     "output_type": "stream",
     "text": [
      "Driver:  SQL Server\n",
      "Server:  DESKTOP-4IH8F9C\\SQLEXPRESS\n",
      "Database:  pardiniteste\n"
     ]
    }
   ],
   "source": [
    "print('Driver: ',str(driver))\n",
    "print('Server: ',str(server))\n",
    "print('Database: ',str(database))"
   ]
  },
  {
   "cell_type": "code",
   "execution_count": 8,
   "id": "be5a1492-9e8e-49f3-aae1-fd20d3b6c132",
   "metadata": {},
   "outputs": [],
   "source": [
    "con = conexao(driver, server, database)"
   ]
  },
  {
   "cell_type": "code",
   "execution_count": 14,
   "id": "cf4cbbb4-ef42-43cf-bea0-fa635ad2a624",
   "metadata": {},
   "outputs": [],
   "source": [
    "### Funcao Carregar Dados Dim MATERIAL\n",
    "def carregar_dados_dim_mat(driver, server, database,dados, tabela_destino):\n",
    "    \n",
    "    con = conexao(driver, server, database)\n",
    "  \n",
    "    query = f'''INSERT INTO {tabela_destino} ''' + '''(''' + ','.join(list(dados)) + ''')''' + ''' values(''' + str('?,' * dados.shape[1])[:-1] + ''')'''\n",
    "    \n",
    "    cursor = con.cursor()\n",
    "    print(\"Query Feita\")\n",
    "    \n",
    "    try:\n",
    "        for index, row in dados.iterrows():\n",
    "            cursor.execute(query, row.IdMaterial, row.Material)\n",
    "        con.commit()\n",
    "        cursor.close()\n",
    "    except:\n",
    "        print('Erro na Inserção dos Dados')\n",
    "        \n",
    "    return"
   ]
  },
  {
   "cell_type": "code",
   "execution_count": 15,
   "id": "b96e785d-87be-4f2d-8aa8-593a76f88ec4",
   "metadata": {},
   "outputs": [
    {
     "name": "stdout",
     "output_type": "stream",
     "text": [
      "Query Feita\n",
      "Insersao Concluida\n"
     ]
    }
   ],
   "source": [
    "### DIMENSAO MATERIAL\n",
    "# RUN Just one time\n",
    "\n",
    "query = \"\"\"SELECT DISTINCT Material\n",
    " FROM DATASET_1 \"\"\"\n",
    "\n",
    "try:\n",
    "    new_data = pd.read_sql(query, con)\n",
    "    new_data['IdMaterial'] = list(range(1,len(new_data['Material'])+1,1))\n",
    "    new_data = new_data[['IdMaterial','Material']]\n",
    "    df = pd.read_sql(\"SELECT * FROM dim_mat\", con)\n",
    "except:\n",
    "    print(\"Erro na Leitura dos Dados\")\n",
    "\n",
    "if len(new_data) == 0:\n",
    "    print(\"Tabela Vazia\")\n",
    "else:\n",
    "    new_data = new_data[~new_data['IdMaterial'].isin(df['IdMaterial'])]\n",
    "    if len(new_data) > 0:\n",
    "        carregar_dados_dim_mat(driver, server, database, new_data, 'dim_mat')\n",
    "        print(\"Insersao Concluida\")\n",
    "    else:\n",
    "        print('Do Nothing')"
   ]
  },
  {
   "cell_type": "code",
   "execution_count": 16,
   "id": "45b7f198-8630-4e70-a5c1-69a1689091de",
   "metadata": {},
   "outputs": [],
   "source": [
    "### Funcao Carregar Dados Dim SITUACAO\n",
    "# RUN Just one time\n",
    "def carregar_dados_dim_sit(driver, server, database,dados, tabela_destino):\n",
    "    \n",
    "    con = conexao(driver, server, database)\n",
    "  \n",
    "    query = f'''INSERT INTO {tabela_destino} ''' + '''(''' + ','.join(list(dados)) + ''')''' + ''' values(''' + str('?,' * dados.shape[1])[:-1] + ''')'''\n",
    "    \n",
    "    cursor = con.cursor()\n",
    "    print(\"Query Feita\")\n",
    "    \n",
    "    try:\n",
    "        for index, row in dados.iterrows():\n",
    "            cursor.execute(query, row.IdSituacao, row.SITUACAO)\n",
    "        con.commit()\n",
    "        cursor.close()\n",
    "    except:\n",
    "        print('Erro na Inserção dos Dados')\n",
    "        \n",
    "    return"
   ]
  },
  {
   "cell_type": "code",
   "execution_count": 17,
   "id": "d1f99d05-0a9d-484a-b5b2-9a4d0e26d575",
   "metadata": {},
   "outputs": [
    {
     "name": "stdout",
     "output_type": "stream",
     "text": [
      "Query Feita\n",
      "Insersao Concluida\n"
     ]
    }
   ],
   "source": [
    "### DIMENSAO SITUACAO\n",
    "# RUN Just one time\n",
    "\n",
    "query = \"\"\"SELECT DISTINCT SITUACAO\n",
    " FROM DATASET_1 \"\"\"\n",
    "\n",
    "try:\n",
    "    new_data = pd.read_sql(query, con)\n",
    "    new_data['IdSituacao'] = list(range(1,len(new_data['SITUACAO'])+1,1))\n",
    "    new_data = new_data[['IdSituacao','SITUACAO']]\n",
    "    df = pd.read_sql(\"SELECT * FROM dim_sit\", con)\n",
    "except:\n",
    "    print(\"Erro na Leitura dos Dados\")\n",
    "\n",
    "if len(new_data) == 0:\n",
    "    print(\"Tabela Vazia\")\n",
    "else:\n",
    "    new_data = new_data[~new_data['IdSituacao'].isin(df['IdSituacao'])]\n",
    "    if len(new_data) > 0:\n",
    "        carregar_dados_dim_sit(driver, server, database, new_data, 'dim_sit')\n",
    "        print(\"Insersao Concluida\")\n",
    "    else:\n",
    "        print('Do Nothing')"
   ]
  },
  {
   "cell_type": "code",
   "execution_count": 12,
   "id": "7880e9cc-fde2-4202-96f4-12b22745986d",
   "metadata": {},
   "outputs": [],
   "source": []
  }
 ],
 "metadata": {
  "kernelspec": {
   "display_name": "Python 3 (ipykernel)",
   "language": "python",
   "name": "python3"
  },
  "language_info": {
   "codemirror_mode": {
    "name": "ipython",
    "version": 3
   },
   "file_extension": ".py",
   "mimetype": "text/x-python",
   "name": "python",
   "nbconvert_exporter": "python",
   "pygments_lexer": "ipython3",
   "version": "3.9.7"
  }
 },
 "nbformat": 4,
 "nbformat_minor": 5
}
