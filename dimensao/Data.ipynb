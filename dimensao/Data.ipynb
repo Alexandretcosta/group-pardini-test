{
 "cells": [
  {
   "cell_type": "code",
   "execution_count": 1,
   "id": "c3f4f50e-5fd6-413e-be86-945a9cf1bdee",
   "metadata": {},
   "outputs": [],
   "source": [
    "import pyodbc\n",
    "import pandas as pd\n",
    "from dotenv import load_dotenv\n",
    "import os\n",
    "import datetime\n",
    "import calendar\n",
    "from datetime import date\n",
    "import holidays\n",
    "import numpy as np"
   ]
  },
  {
   "cell_type": "code",
   "execution_count": 2,
   "id": "eb21a1bd-4e0b-43ec-b513-75059ba4cde9",
   "metadata": {},
   "outputs": [
    {
     "data": {
      "text/plain": [
       "True"
      ]
     },
     "execution_count": 2,
     "metadata": {},
     "output_type": "execute_result"
    }
   ],
   "source": [
    "load_dotenv(\"keys.env\",override=True)"
   ]
  },
  {
   "cell_type": "code",
   "execution_count": 3,
   "id": "9f7b5432-a422-4490-92bd-de4afb015f7a",
   "metadata": {},
   "outputs": [],
   "source": [
    "driver = os.environ['DRIVER']\n",
    "server = os.environ['SERVER']\n",
    "database = os.environ['DATABASE']"
   ]
  },
  {
   "cell_type": "code",
   "execution_count": 4,
   "id": "a771cc27-ba1e-448f-8ff7-f890672eac81",
   "metadata": {},
   "outputs": [],
   "source": [
    "### funcoes \n",
    "\n",
    "def conexao(driver, server, database):\n",
    "    \n",
    "    cnxn_str = (f\"Driver={str(driver)};\"\n",
    "                f\"Server={str(server)};\"\n",
    "                f\"Database={str(database)};\"\n",
    "                \"Trusted_Connection=yes;\")\n",
    "    cnxn = pyodbc.connect(cnxn_str)\n",
    "    return cnxn\n",
    "\n",
    "\n",
    "def truncate_table(driver, server, database, tabela_destino):\n",
    "    \n",
    "    con = conexao(driver, server, database)\n",
    "    \n",
    "    truncate = f\"\"\"TRUNCATE TABLE {tabela_destino} \"\"\"\n",
    "    \n",
    "    cursor = con.cursor()\n",
    "    cursor.execute(truncate)\n",
    "    \n",
    "    con.commit()\n",
    "    cursor.close()\n",
    "    \n",
    "    return"
   ]
  },
  {
   "cell_type": "markdown",
   "id": "d3d5e2e1-d73a-4291-b622-7af3de46ec9a",
   "metadata": {},
   "source": [
    "### ETL - DIM DATA"
   ]
  },
  {
   "cell_type": "code",
   "execution_count": 5,
   "id": "1d15dc9b-71d4-48a8-9116-4400331c935c",
   "metadata": {},
   "outputs": [],
   "source": [
    "### Funcao Carregar Dados fato_grao\n",
    "def carregar_dados_dim_data(driver, server, database,dados, tabela_destino):\n",
    "    \n",
    "    con = conexao(driver, server, database)\n",
    "  \n",
    "    query = f'''INSERT INTO {tabela_destino} ''' + '''(''' + ','.join(list(dados)) + ''')''' + ''' values(''' + str('?,' * dados.shape[1])[:-1] + ''')'''\n",
    "    \n",
    "    cursor = con.cursor()\n",
    "    print(\"Query Feita\")\n",
    "    \n",
    "    try:\n",
    "        for index, row in dados.iterrows():\n",
    "            cursor.execute(query, row.IdData, row.Data, row.Dia, row.Mes, row.Ano, row.Ano_Mes, row.Dia_Semana, row.Nome_Dia_Semana, row.Semana_Ano, row.Semestre, row.Trimestre, row.InFeriado, row.InFds)\n",
    "        con.commit()\n",
    "        cursor.close()\n",
    "    except:\n",
    "        print('Erro na Inserção dos Dados')\n",
    "        \n",
    "    return"
   ]
  },
  {
   "cell_type": "code",
   "execution_count": 6,
   "id": "51df382d-661b-4649-b9a0-51413d9873e5",
   "metadata": {},
   "outputs": [
    {
     "name": "stdout",
     "output_type": "stream",
     "text": [
      "Driver:  SQL Server\n",
      "Server:  DESKTOP-4IH8F9C\\SQLEXPRESS\n",
      "Database:  pardiniteste\n"
     ]
    }
   ],
   "source": [
    "print('Driver: ',str(driver))\n",
    "print('Server: ',str(server))\n",
    "print('Database: ',str(database))"
   ]
  },
  {
   "cell_type": "code",
   "execution_count": 7,
   "id": "bc40f20b-61d5-48fe-a04d-dd1405ace7b3",
   "metadata": {},
   "outputs": [],
   "source": [
    "from datetime import date, timedelta\n",
    "sdate = date(1900,1,1)   # start date\n",
    "edate = date(2100,1,1)   # end date\n",
    "\n",
    "lista_data = pd.date_range(sdate,edate-timedelta(days=1),freq='d')\n",
    "\n",
    "N = len(lista_data)\n",
    "id_lista = list(range(1,N+1,1))\n",
    "\n",
    "d = {'IdData': id_lista,\n",
    "     'Data': pd.to_datetime(lista_data)}\n",
    "dim_data = pd.DataFrame(d)"
   ]
  },
  {
   "cell_type": "code",
   "execution_count": 8,
   "id": "55be8a6f-d7b9-473a-bfde-4ce9520ac1f7",
   "metadata": {},
   "outputs": [],
   "source": [
    "dim_data['Dia'] = list(dim_data['Data'].apply(lambda x: x.day))\n",
    "dim_data['Mes'] = list(dim_data['Data'].apply(lambda x: x.month))\n",
    "dim_data['Ano'] = list(dim_data['Data'].apply(lambda x: x.year))\n",
    "dim_data['Ano_Mes'] = dim_data['Ano']*100 + dim_data['Mes']\n",
    "dim_data['Dia_Semana'] = list(dim_data['Data'].apply(lambda x: x.weekday()))\n",
    "dim_data['Nome_Dia_Semana'] = dim_data['Data'].apply(lambda x: calendar.day_name[x.weekday()])\n",
    "dim_data['Semana_Ano'] = list(dim_data['Data'].apply(lambda x: x.isocalendar().week))\n",
    "dim_data['Semestre'] = list(np.where(dim_data['Data'].apply(lambda x: x.quarter) < 3,1,2))\n",
    "dim_data['Trimestre'] = list(dim_data['Data'].apply(lambda x: x.quarter))"
   ]
  },
  {
   "cell_type": "code",
   "execution_count": 9,
   "id": "edf0df20-e044-4c5f-b9d6-23219be2d022",
   "metadata": {},
   "outputs": [],
   "source": [
    "feriados = holidays.Brazil()\n",
    "feriados = feriados['1900-01-01': '2100-01-01']\n",
    "feriados = pd.DataFrame({'Data': feriados,\n",
    "              'InFeriado': 1})\n",
    "\n",
    "feriados['Data'] = feriados['Data'].astype(str)\n",
    "dim_data['Data'] = dim_data['Data'].astype(str)\n",
    "dim_data = pd.merge(dim_data, feriados,on = 'Data', how = 'left')\n",
    "dim_data['InFeriado'] = dim_data['InFeriado'].fillna(0)"
   ]
  },
  {
   "cell_type": "code",
   "execution_count": 10,
   "id": "fa0f3408-f196-43dc-8acc-4306ab20a516",
   "metadata": {},
   "outputs": [],
   "source": [
    "dim_data['InFds'] = list(np.where(dim_data['Dia_Semana'] > 4,1,0))"
   ]
  },
  {
   "cell_type": "code",
   "execution_count": 11,
   "id": "082443c0-e2aa-4501-a887-0efd0463cb72",
   "metadata": {},
   "outputs": [],
   "source": [
    "dim_data['Data'] = pd.to_datetime(dim_data['Data'])"
   ]
  },
  {
   "cell_type": "code",
   "execution_count": 12,
   "id": "b9a910e1-1419-4d7f-8526-ecee5477c690",
   "metadata": {},
   "outputs": [],
   "source": [
    "dim_data['InFeriado'] = dim_data['InFeriado'].astype(int)"
   ]
  },
  {
   "cell_type": "code",
   "execution_count": 13,
   "id": "c486c5ed-98cf-4589-909f-31f54af82fe5",
   "metadata": {},
   "outputs": [
    {
     "name": "stdout",
     "output_type": "stream",
     "text": [
      "Query Feita\n"
     ]
    }
   ],
   "source": [
    "carregar_dados_dim_data(driver, server, database, dim_data, 'dim_data')"
   ]
  },
  {
   "cell_type": "code",
   "execution_count": 18,
   "id": "92fe009c-2db6-47ae-90f2-1830066a6ecb",
   "metadata": {},
   "outputs": [],
   "source": [
    "#', row.'.join(list(dim_data))"
   ]
  },
  {
   "cell_type": "code",
   "execution_count": null,
   "id": "7a2a229b-00b0-4bfc-b03b-fad1827393d1",
   "metadata": {},
   "outputs": [],
   "source": []
  }
 ],
 "metadata": {
  "kernelspec": {
   "display_name": "Python 3 (ipykernel)",
   "language": "python",
   "name": "python3"
  },
  "language_info": {
   "codemirror_mode": {
    "name": "ipython",
    "version": 3
   },
   "file_extension": ".py",
   "mimetype": "text/x-python",
   "name": "python",
   "nbconvert_exporter": "python",
   "pygments_lexer": "ipython3",
   "version": "3.9.7"
  }
 },
 "nbformat": 4,
 "nbformat_minor": 5
}
