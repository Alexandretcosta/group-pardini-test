{
 "cells": [
  {
   "cell_type": "markdown",
   "id": "de19d32b",
   "metadata": {},
   "source": [
    "### ETL - DIMENSAO UNIDADE_PRODUTIVA"
   ]
  },
  {
   "cell_type": "code",
   "execution_count": null,
   "id": "617cdd97",
   "metadata": {},
   "outputs": [],
   "source": [
    "### Funcao Carregar Dados Dim und_prd\n",
    "def carregar_dados_dim_und_prd(driver, server, database,dados, tabela_destino):\n",
    "    \n",
    "    con = conexao(driver, server, database)\n",
    "  \n",
    "    query = f'''INSERT INTO {tabela_destino} ''' + '''(''' + ','.join(list(dados)) + ''')''' + ''' values(''' + str('?,' * dados.shape[1])[:-1] + ''')'''\n",
    "    \n",
    "    cursor = con.cursor()\n",
    "    print(\"Query Feita\")\n",
    "    \n",
    "    try:\n",
    "        for index, row in dados.iterrows():\n",
    "            cursor.execute(query, row.IdUnidadeProdutiva, row.UnidadeProdutiva)\n",
    "        con.commit()\n",
    "        cursor.close()\n",
    "    except:\n",
    "        print('Erro na Inserção dos Dados')\n",
    "        \n",
    "    return"
   ]
  },
  {
   "cell_type": "code",
   "execution_count": null,
   "id": "d9a532a6",
   "metadata": {},
   "outputs": [],
   "source": [
    "### DIMENSAO UNIDADE PRODUTIVA\n",
    "\n",
    "query = \"\"\"SELECT DISTINCT IdUnidadeProdutiva,\n",
    "UnidadeProdutiva FROM DATASET_1 \"\"\"\n",
    "\n",
    "try:\n",
    "    new_data = pd.read_sql(query, con)\n",
    "    df = pd.read_sql(\"SELECT * FROM dim_und_prd\", con)\n",
    "except:\n",
    "    print(\"Erro na Leitura dos Dados\")\n",
    "\n",
    "if len(new_data) == 0:\n",
    "    print(\"Tabela Vazia\")\n",
    "else:\n",
    "    new_data = new_data[~new_data['IdUnidadeProdutiva'].isin(df['IdUnidadeProdutiva'])]\n",
    "    if len(new_data) > 0:\n",
    "        carregar_dados_dim_und_prd(driver, server, database, new_data, 'dim_und_prd')\n",
    "        print(\"Insersao Concluida\")\n",
    "    else:\n",
    "        print('Do Nothing')"
   ]
  }
 ],
 "metadata": {
  "kernelspec": {
   "display_name": "Python 3 (ipykernel)",
   "language": "python",
   "name": "python3"
  },
  "language_info": {
   "codemirror_mode": {
    "name": "ipython",
    "version": 3
   },
   "file_extension": ".py",
   "mimetype": "text/x-python",
   "name": "python",
   "nbconvert_exporter": "python",
   "pygments_lexer": "ipython3",
   "version": "3.9.7"
  }
 },
 "nbformat": 4,
 "nbformat_minor": 5
}
