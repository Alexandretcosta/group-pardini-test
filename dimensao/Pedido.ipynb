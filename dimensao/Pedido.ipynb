{
 "cells": [
  {
   "cell_type": "markdown",
   "id": "e937edf9",
   "metadata": {},
   "source": [
    "### ETL - DIMENSAO PEDIDO"
   ]
  },
  {
   "cell_type": "code",
   "execution_count": null,
   "id": "1459212f",
   "metadata": {},
   "outputs": [],
   "source": [
    "### Funcao Carregar Dados Dim slct\n",
    "def carregar_dados_dim_slct(driver, server, database,dados, tabela_destino):\n",
    "    \n",
    "    con = conexao(driver, server, database)\n",
    "  \n",
    "    query = f'''INSERT INTO {tabela_destino} ''' + '''(''' + ','.join(list(dados)) + ''')''' + ''' values(''' + str('?,' * dados.shape[1])[:-1] + ''')'''\n",
    "    \n",
    "    cursor = con.cursor()\n",
    "    print(\"Query Feita\")\n",
    "    \n",
    "    try:\n",
    "        for index, row in dados.iterrows():\n",
    "            cursor.execute(query, row.IdPedido, row.DataCompetencia, row.DataEntrada, row.DataPedido, row.SITUACAO)\n",
    "        con.commit()\n",
    "        cursor.close()\n",
    "    except:\n",
    "        print('Erro na Inserção dos Dados')\n",
    "        \n",
    "    return\n"
   ]
  },
  {
   "cell_type": "code",
   "execution_count": null,
   "id": "81ca7736",
   "metadata": {},
   "outputs": [],
   "source": [
    "### DIMENSAO PEDIDO\n",
    "\n",
    "query = \"\"\"SELECT DISTINCT IdPedido,\n",
    "DataCompetencia,\n",
    "DataEntrada,\n",
    "DataPedido,\n",
    "SITUACAO FROM DATASET_1 \"\"\"\n",
    "\n",
    "try:\n",
    "    new_data = pd.read_sql(query, con)\n",
    "    df = pd.read_sql(\"SELECT * FROM dim_slct\", con)\n",
    "except:\n",
    "    print(\"Erro na Leitura dos Dados\")\n",
    "\n",
    "if len(new_data) == 0:\n",
    "    print(\"Tabela Vazia\")\n",
    "else:\n",
    "    condicao = sum(new_data['IdPedido'].isin(df['IdPedido']))\n",
    "    if condicao == 0:\n",
    "        carregar_dados_dim_slct(driver, server, database, new_data, 'dim_slct')\n",
    "        print(\"Inserção Concluida\")\n",
    "    else:\n",
    "        print('Do Nothing')"
   ]
  }
 ],
 "metadata": {
  "kernelspec": {
   "display_name": "Python 3 (ipykernel)",
   "language": "python",
   "name": "python3"
  },
  "language_info": {
   "codemirror_mode": {
    "name": "ipython",
    "version": 3
   },
   "file_extension": ".py",
   "mimetype": "text/x-python",
   "name": "python",
   "nbconvert_exporter": "python",
   "pygments_lexer": "ipython3",
   "version": "3.9.7"
  }
 },
 "nbformat": 4,
 "nbformat_minor": 5
}
