{
 "cells": [
  {
   "cell_type": "markdown",
   "id": "f275e723-03aa-42a1-b806-91ac26d85e5e",
   "metadata": {},
   "source": [
    "### ETL - DIMENSAO MATERIAL"
   ]
  },
  {
   "cell_type": "code",
   "execution_count": 14,
   "id": "a69a69c6-5426-428b-9d89-971ddd53d9c3",
   "metadata": {},
   "outputs": [],
   "source": [
    "### Funcao Carregar Dados Dim MATERIAL\n",
    "def carregar_dados_dim_mat(driver, server, database,dados, tabela_destino):\n",
    "    \n",
    "    con = conexao(driver, server, database)\n",
    "  \n",
    "    query = f'''INSERT INTO {tabela_destino} ''' + '''(''' + ','.join(list(dados)) + ''')''' + ''' values(''' + str('?,' * dados.shape[1])[:-1] + ''')'''\n",
    "    \n",
    "    cursor = con.cursor()\n",
    "    print(\"Query Feita\")\n",
    "    \n",
    "    try:\n",
    "        for index, row in dados.iterrows():\n",
    "            cursor.execute(query, row.IdMaterial, row.Material)\n",
    "        con.commit()\n",
    "        cursor.close()\n",
    "    except:\n",
    "        print('Erro na Inserção dos Dados')\n",
    "        \n",
    "    return"
   ]
  },
  {
   "cell_type": "code",
   "execution_count": 8,
   "id": "e2e3c59e-bf2d-4957-89f5-e35fe9a51db2",
   "metadata": {},
   "outputs": [],
   "source": [
    "### DIMENSAO SITUACAO\n",
    "\n",
    "query = \"\"\"SELECT DISTINCT Material\n",
    " FROM DATASET_1 \"\"\"\n",
    "\n",
    "try:\n",
    "    new_data = pd.read_sql(query, con)\n",
    "    df = pd.read_sql(\"SELECT * FROM dim_mat\", con)\n",
    "except:\n",
    "    print(\"Erro na Leitura dos Dados\")\n",
    "\n",
    "if len(new_data) == 0:\n",
    "    print(\"Tabela Vazia\")\n",
    "else:\n",
    "    \n",
    "        new_data = new_data[~new_data['Material'].isin(df['Material'])]\n",
    "    if len(new_data) > 0:\n",
    "        maximo = int(df['IdMaterial'].max())\n",
    "        new_data['IdMaterial'] = list(range(maximo,maximo+len(new_data),1))\n",
    "        carregar_dados_dim_sit(driver, server, database, new_data, 'dim_mat')\n",
    "        print(\"Insersao Concluida\")\n",
    "    else:\n",
    "        print('Do Nothing')"
   ]
  }
 ],
 "metadata": {
  "kernelspec": {
   "display_name": "Python 3 (ipykernel)",
   "language": "python",
   "name": "python3"
  },
  "language_info": {
   "codemirror_mode": {
    "name": "ipython",
    "version": 3
   },
   "file_extension": ".py",
   "mimetype": "text/x-python",
   "name": "python",
   "nbconvert_exporter": "python",
   "pygments_lexer": "ipython3",
   "version": "3.9.7"
  }
 },
 "nbformat": 4,
 "nbformat_minor": 5
}
