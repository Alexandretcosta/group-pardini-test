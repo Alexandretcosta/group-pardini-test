{
 "cells": [
  {
   "cell_type": "code",
   "execution_count": 1,
   "id": "a9c229c0",
   "metadata": {},
   "outputs": [],
   "source": [
    "import pyodbc\n",
    "import pandas as pd\n",
    "from dotenv import load_dotenv\n",
    "import os\n",
    "import datetime\n",
    "import calendar\n",
    "from datetime import date\n",
    "import holidays\n",
    "import numpy as np"
   ]
  },
  {
   "cell_type": "code",
   "execution_count": 7,
   "id": "b86fbf69",
   "metadata": {},
   "outputs": [
    {
     "data": {
      "text/plain": [
       "True"
      ]
     },
     "execution_count": 7,
     "metadata": {},
     "output_type": "execute_result"
    }
   ],
   "source": [
    "load_dotenv(\"keys.env\",override=True)"
   ]
  },
  {
   "cell_type": "code",
   "execution_count": 8,
   "id": "012aa5da",
   "metadata": {},
   "outputs": [],
   "source": [
    "driver = os.environ['DRIVER']\n",
    "server = os.environ['SERVER']\n",
    "database = os.environ['DATABASE']"
   ]
  },
  {
   "cell_type": "code",
   "execution_count": 9,
   "id": "3bdfc3b4",
   "metadata": {},
   "outputs": [],
   "source": [
    "### funcoes \n",
    "\n",
    "def conexao(driver, server, database):\n",
    "    \n",
    "    cnxn_str = (f\"Driver={str(driver)};\"\n",
    "                f\"Server={str(server)};\"\n",
    "                f\"Database={str(database)};\"\n",
    "                \"Trusted_Connection=yes;\")\n",
    "    cnxn = pyodbc.connect(cnxn_str)\n",
    "    return cnxn\n",
    "\n",
    "\n",
    "def truncate_table(driver, server, database, tabela_destino):\n",
    "    \n",
    "    con = conexao(driver, server, database)\n",
    "    \n",
    "    truncate = f\"\"\"TRUNCATE TABLE {tabela_destino} \"\"\"\n",
    "    \n",
    "    cursor = con.cursor()\n",
    "    cursor.execute(truncate)\n",
    "    \n",
    "    con.commit()\n",
    "    cursor.close()\n",
    "    \n",
    "    return"
   ]
  },
  {
   "cell_type": "code",
   "execution_count": 10,
   "id": "6c03751d",
   "metadata": {},
   "outputs": [
    {
     "name": "stdout",
     "output_type": "stream",
     "text": [
      "Driver:  SQL Server\n",
      "Server:  DESKTOP-4IH8F9C\\SQLEXPRESS\n",
      "Database:  pardiniteste\n"
     ]
    }
   ],
   "source": [
    "print('Driver: ',str(driver))\n",
    "print('Server: ',str(server))\n",
    "print('Database: ',str(database))"
   ]
  },
  {
   "cell_type": "code",
   "execution_count": 11,
   "id": "77bd073c-7fb5-40ea-8dc5-e655f6d88fce",
   "metadata": {},
   "outputs": [],
   "source": [
    "con = conexao(driver, server, database)"
   ]
  },
  {
   "cell_type": "code",
   "execution_count": 14,
   "id": "1a20bd23",
   "metadata": {},
   "outputs": [
    {
     "name": "stdout",
     "output_type": "stream",
     "text": [
      "Tabela Truncada\n",
      "Query Feita\n",
      "Insersao Concluida\n"
     ]
    }
   ],
   "source": [
    "%run fato/Fato_Grao.ipynb"
   ]
  },
  {
   "cell_type": "code",
   "execution_count": null,
   "id": "45c2d352",
   "metadata": {},
   "outputs": [],
   "source": [
    "%run dimensao/Unidade.ipynb"
   ]
  },
  {
   "cell_type": "code",
   "execution_count": null,
   "id": "f59d7cf8",
   "metadata": {},
   "outputs": [],
   "source": [
    "%run dimensao/Exame.ipynb"
   ]
  },
  {
   "cell_type": "code",
   "execution_count": null,
   "id": "3ef19193",
   "metadata": {
    "scrolled": true
   },
   "outputs": [],
   "source": [
    "%run dimensao/Convenio.ipynb"
   ]
  },
  {
   "cell_type": "code",
   "execution_count": null,
   "id": "65813cb6",
   "metadata": {
    "scrolled": true
   },
   "outputs": [],
   "source": [
    "%run dimensao/Unidade_Produtiva.ipynb"
   ]
  },
  {
   "cell_type": "code",
   "execution_count": null,
   "id": "38116bed",
   "metadata": {
    "scrolled": true
   },
   "outputs": [],
   "source": [
    "%run dimensao/Unidade_Negocio.ipynb"
   ]
  },
  {
   "cell_type": "code",
   "execution_count": null,
   "id": "26754702",
   "metadata": {
    "scrolled": true
   },
   "outputs": [],
   "source": [
    "%run dimensao/Material.ipynb"
   ]
  },
  {
   "cell_type": "code",
   "execution_count": null,
   "id": "07f325a0-7cf1-45f2-a574-fdbabd8e6afc",
   "metadata": {
    "scrolled": true
   },
   "outputs": [],
   "source": [
    "%run dimensao/Situacao.ipynb"
   ]
  }
 ],
 "metadata": {
  "kernelspec": {
   "display_name": "Python 3 (ipykernel)",
   "language": "python",
   "name": "python3"
  },
  "language_info": {
   "codemirror_mode": {
    "name": "ipython",
    "version": 3
   },
   "file_extension": ".py",
   "mimetype": "text/x-python",
   "name": "python",
   "nbconvert_exporter": "python",
   "pygments_lexer": "ipython3",
   "version": "3.9.7"
  }
 },
 "nbformat": 4,
 "nbformat_minor": 5
}
