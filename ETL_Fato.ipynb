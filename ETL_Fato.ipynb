{
 "cells": [
  {
   "cell_type": "code",
   "execution_count": 1,
   "id": "a9c229c0",
   "metadata": {},
   "outputs": [],
   "source": [
    "import pyodbc\n",
    "import pandas as pd\n",
    "from dotenv import load_dotenv\n",
    "import os"
   ]
  },
  {
   "cell_type": "code",
   "execution_count": 2,
   "id": "111e3f5a",
   "metadata": {},
   "outputs": [
    {
     "data": {
      "text/plain": [
       "True"
      ]
     },
     "execution_count": 2,
     "metadata": {},
     "output_type": "execute_result"
    }
   ],
   "source": [
    "load_dotenv(\"keys.env\",override=True)"
   ]
  },
  {
   "cell_type": "code",
   "execution_count": 3,
   "id": "222c5798",
   "metadata": {},
   "outputs": [],
   "source": [
    "driver = os.environ['DRIVER']\n",
    "server = os.environ['SERVER']\n",
    "database = os.environ['DATABASE']"
   ]
  },
  {
   "cell_type": "code",
   "execution_count": 28,
   "id": "a06a876a",
   "metadata": {},
   "outputs": [],
   "source": [
    "### funcoes \n",
    "\n",
    "def conexao(driver, server, database):\n",
    "    \n",
    "    cnxn_str = (f\"Driver={str(driver)};\"\n",
    "                f\"Server={str(server)};\"\n",
    "                f\"Database={str(database)};\"\n",
    "                \"Trusted_Connection=yes;\")\n",
    "    cnxn = pyodbc.connect(cnxn_str)\n",
    "    return cnxn\n",
    "\n",
    "\n",
    "def truncate_table(driver, server, database, tabela_destino):\n",
    "    \n",
    "    con = conexao(driver, server, database)\n",
    "    \n",
    "    truncate = f\"\"\"TRUNCATE TABLE {tabela_destino} \"\"\"\n",
    "    \n",
    "    cursor = con.cursor()\n",
    "    cursor.execute(truncate)\n",
    "    \n",
    "    return"
   ]
  },
  {
   "cell_type": "code",
   "execution_count": 8,
   "id": "f557fc77",
   "metadata": {},
   "outputs": [
    {
     "name": "stdout",
     "output_type": "stream",
     "text": [
      "Driver:  SQL Server\n",
      "Server:  DESKTOP-4IH8F9C\\SQLEXPRESS\n",
      "Database:  pardiniteste\n"
     ]
    }
   ],
   "source": [
    "print('Driver: ',str(driver))\n",
    "print('Server: ',str(server))\n",
    "print('Database: ',str(database))"
   ]
  },
  {
   "cell_type": "code",
   "execution_count": 9,
   "id": "0e467be5",
   "metadata": {},
   "outputs": [],
   "source": [
    "con = conexao(driver = driver, server = server, database = database)"
   ]
  },
  {
   "cell_type": "code",
   "execution_count": 57,
   "id": "48a4f3fb",
   "metadata": {},
   "outputs": [
    {
     "name": "stdout",
     "output_type": "stream",
     "text": [
      "Erro no Truncamento da Tabela\n",
      "Query Feita\n",
      "Inserção Concluida\n"
     ]
    }
   ],
   "source": [
    "%run fato/Fato_Grao.ipynb"
   ]
  },
  {
   "cell_type": "code",
   "execution_count": 39,
   "id": "1213bdae",
   "metadata": {},
   "outputs": [
    {
     "name": "stdout",
     "output_type": "stream",
     "text": [
      "Do Nothing\n"
     ]
    }
   ],
   "source": [
    "%run dimensao/Unidade.ipynb"
   ]
  },
  {
   "cell_type": "code",
   "execution_count": 47,
   "id": "1a8ce2cc",
   "metadata": {},
   "outputs": [
    {
     "name": "stdout",
     "output_type": "stream",
     "text": [
      "Query Feita\n",
      "Inserção Concluida\n"
     ]
    }
   ],
   "source": [
    "%run dimensao/Exame.ipynb"
   ]
  },
  {
   "cell_type": "code",
   "execution_count": 50,
   "id": "788b0ad6",
   "metadata": {
    "scrolled": true
   },
   "outputs": [
    {
     "name": "stdout",
     "output_type": "stream",
     "text": [
      "Query Feita\n",
      "Inserção Concluida\n"
     ]
    }
   ],
   "source": [
    "%run dimensao/Convenio.ipynb"
   ]
  },
  {
   "cell_type": "code",
   "execution_count": 54,
   "id": "3b216e83",
   "metadata": {
    "scrolled": true
   },
   "outputs": [
    {
     "name": "stdout",
     "output_type": "stream",
     "text": [
      "Query Feita\n",
      "Inserção Concluida\n"
     ]
    }
   ],
   "source": [
    "%run dimensao/Unidade_Produtiva.ipynb"
   ]
  },
  {
   "cell_type": "code",
   "execution_count": 55,
   "id": "565e5075",
   "metadata": {
    "scrolled": true
   },
   "outputs": [
    {
     "name": "stdout",
     "output_type": "stream",
     "text": [
      "Query Feita\n",
      "Inserção Concluida\n"
     ]
    }
   ],
   "source": [
    "%run dimensao/Unidade_Negocio.ipynb"
   ]
  },
  {
   "cell_type": "code",
   "execution_count": 56,
   "id": "7dca19e4",
   "metadata": {
    "scrolled": true
   },
   "outputs": [
    {
     "name": "stdout",
     "output_type": "stream",
     "text": [
      "Query Feita\n",
      "Inserção Concluida\n"
     ]
    }
   ],
   "source": [
    "%run dimensao/Pedido.ipynb"
   ]
  }
 ],
 "metadata": {
  "kernelspec": {
   "display_name": "Python 3 (ipykernel)",
   "language": "python",
   "name": "python3"
  },
  "language_info": {
   "codemirror_mode": {
    "name": "ipython",
    "version": 3
   },
   "file_extension": ".py",
   "mimetype": "text/x-python",
   "name": "python",
   "nbconvert_exporter": "python",
   "pygments_lexer": "ipython3",
   "version": "3.9.7"
  }
 },
 "nbformat": 4,
 "nbformat_minor": 5
}
