{
 "cells": [
  {
   "cell_type": "markdown",
   "id": "1ecd24b8",
   "metadata": {},
   "source": [
    "### ETL - FATO GRAO"
   ]
  },
  {
   "cell_type": "code",
   "execution_count": 11,
   "id": "cd92cda8",
   "metadata": {},
   "outputs": [],
   "source": [
    "### Funcao Carregar Dados fato_grao\n",
    "def carregar_dados_fato_grao(driver, server, database,dados, tabela_destino):\n",
    "    \n",
    "    con = conexao(driver, server, database)\n",
    "  \n",
    "    query = f'''INSERT INTO {tabela_destino} ''' + '''(''' + ','.join(list(dados)) + ''')''' + ''' values(''' + str('?,' * dados.shape[1])[:-1] + ''')'''\n",
    "    \n",
    "    cursor = con.cursor()\n",
    "    print(\"Query Feita\")\n",
    "    \n",
    "    try:\n",
    "        for index, row in dados.iterrows():\n",
    "            cursor.execute(query, row.IdData, row.IdPedido, row.IdExame, row.IdMaterial, row.IdUnidade, row.ValorProducao, row.Qtd_Exame, row.Qtd_Material)\n",
    "        con.commit()\n",
    "        cursor.close()\n",
    "    except:\n",
    "        print('Erro na Inserção dos Dados')\n",
    "        \n",
    "    return"
   ]
  },
  {
   "cell_type": "code",
   "execution_count": 12,
   "id": "9ae92ae4",
   "metadata": {},
   "outputs": [],
   "source": [
    "### FATO GRAO\n",
    "\n",
    "query = \"\"\"SELECT DataLaudo, -- PK\n",
    "        IdPedido, -- PK\n",
    "        IdExame, -- PK\n",
    "        Material, -- PK\n",
    "        IdUnidade, -- PK\n",
    "        ValorProducao FROM DATASET_1 \"\"\"\n",
    "\n",
    "try:\n",
    "    new_data = pd.read_sql(query, con)\n",
    "    data = pd.read_sql(\"SELECT IdData, Data FROM dim_data\",con)\n",
    "    material = pd.read_sql(\"SELECT IdMaterial, Material FROM dim_mat\",con)\n",
    "except:\n",
    "    print(\"Erro na Leitura dos Dados\")\n",
    "\n",
    "if len(new_data) == 0:\n",
    "    print(\"Tabela Vazia\")\n",
    "else: \n",
    "    \n",
    "    ### Id Data\n",
    "    new_data.drop_duplicates(subset = ['DataLaudo','IdPedido','IdExame','Material','IdUnidade'],keep = 'first', inplace = True)\n",
    "    new_data['DataLaudo'] = pd.to_datetime(new_data['DataLaudo'].astype(str),format = \"%Y%m%d\")\n",
    "    new_data['DataLaudo'] = new_data['DataLaudo'].astype(str)\n",
    "    data['Data'] = data['Data'].astype(str)\n",
    "    new_data = pd.merge(new_data, data, left_on = 'DataLaudo', right_on = \"Data\",how = 'left')\n",
    "    \n",
    "    ### Id Material\n",
    "    new_data = pd.merge(new_data, material, on = 'Material',how = 'left')\n",
    "    \n",
    "    ## Quantidade de Exame Realizado\n",
    "    qtd_exame = pd.DataFrame(new_data.groupby(by = \"IdPedido\")['IdExame'].nunique()).reset_index()\n",
    "    qtd_exame.columns = ['IdPedido','Qtd_Exame']\n",
    "    new_data = pd.merge(new_data, qtd_exame, on = 'IdPedido',how = 'left')\n",
    "    \n",
    "    ## Quantidade de Material \n",
    "    qtd_material = pd.DataFrame(new_data.groupby(by = \"IdPedido\")['IdMaterial'].nunique()).reset_index()\n",
    "    qtd_material.columns = ['IdPedido','Qtd_Material']\n",
    "    new_data = pd.merge(new_data, qtd_material, on = 'IdPedido',how = 'left')\n",
    "    \n",
    "    new_data = new_data[['IdData','IdPedido','IdExame','IdMaterial','IdUnidade','ValorProducao','Qtd_Exame','Qtd_Material']]\n",
    "    try:\n",
    "        truncate_table(driver, server, database, 'fato_grao')\n",
    "        print(\"Tabela Truncada\")\n",
    "    except:\n",
    "        print(\"Erro no Truncamento da Tabela\")\n",
    "        \n",
    "    carregar_dados_fato_grao(driver, server, database, new_data, 'fato_grao')\n",
    "    print(\"Insersao Concluida\")"
   ]
  }
 ],
 "metadata": {
  "kernelspec": {
   "display_name": "Python 3 (ipykernel)",
   "language": "python",
   "name": "python3"
  },
  "language_info": {
   "codemirror_mode": {
    "name": "ipython",
    "version": 3
   },
   "file_extension": ".py",
   "mimetype": "text/x-python",
   "name": "python",
   "nbconvert_exporter": "python",
   "pygments_lexer": "ipython3",
   "version": "3.9.7"
  }
 },
 "nbformat": 4,
 "nbformat_minor": 5
}
