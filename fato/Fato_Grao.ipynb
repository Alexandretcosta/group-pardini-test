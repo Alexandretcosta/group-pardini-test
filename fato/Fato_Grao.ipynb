{
 "cells": [
  {
   "cell_type": "markdown",
   "id": "75c1bd22",
   "metadata": {},
   "source": [
    "### ETL - FATO GRAO"
   ]
  },
  {
   "cell_type": "code",
   "execution_count": null,
   "id": "0cf4f138",
   "metadata": {},
   "outputs": [],
   "source": [
    "### Funcao Carregar Dados fato_grao\n",
    "def carregar_dados_fato_grao(driver, server, database,dados, tabela_destino):\n",
    "    \n",
    "    con = conexao(driver, server, database)\n",
    "  \n",
    "    query = f'''INSERT INTO {tabela_destino} ''' + '''(''' + ','.join(list(dados)) + ''')''' + ''' values(''' + str('?,' * dados.shape[1])[:-1] + ''')'''\n",
    "    \n",
    "    cursor = con.cursor()\n",
    "    print(\"Query Feita\")\n",
    "    \n",
    "    try:\n",
    "        for index, row in dados.iterrows():\n",
    "            cursor.execute(query, row.DataLaudo, row.IdPedido, row.IdExame, row.Material, row.IdUnidade, row.IdConvenio, row.IdUnidadeProdutiva, row.IdUnidadeNegocio, row.SITUACAO, row.ValorProducao)\n",
    "        con.commit()\n",
    "        cursor.close()\n",
    "    except:\n",
    "        print('Erro na Inserção dos Dados')\n",
    "        \n",
    "    return"
   ]
  },
  {
   "cell_type": "code",
   "execution_count": null,
   "id": "5e8edd05",
   "metadata": {},
   "outputs": [],
   "source": [
    "### FATO GRAO\n",
    "\n",
    "query = \"\"\"SELECT DataLaudo, -- PK\n",
    "        IdPedido, -- PK\n",
    "        IdExame, -- PK\n",
    "        Material, -- PK\n",
    "        IdUnidade, -- PK\n",
    "        IdConvenio,\n",
    "        IdUnidadeProdutiva,\n",
    "        IdUnidadeNegocio,\n",
    "        SITUACAO,\n",
    "        ValorProducao FROM DATASET_1 \"\"\"\n",
    "\n",
    "try:\n",
    "    new_data = pd.read_sql(query, con)\n",
    "except:\n",
    "    print(\"Erro na Leitura dos Dados\")\n",
    "\n",
    "if len(new_data) == 0:\n",
    "    print(\"Tabela Vazia\")\n",
    "else:\n",
    "    new_data.drop_duplicates(keep = 'first', inplace = True)\n",
    "    try:\n",
    "        truncate_table(driver, server, database, 'fato_grao')\n",
    "    except:\n",
    "        print(\"Erro no Truncamento da Tabela\")\n",
    "    \n",
    "    carregar_dados_fato_grao(driver, server, database, new_data, 'fato_grao')\n",
    "    print(\"Inserção Concluida\")"
   ]
  }
 ],
 "metadata": {
  "kernelspec": {
   "display_name": "Python 3 (ipykernel)",
   "language": "python",
   "name": "python3"
  },
  "language_info": {
   "codemirror_mode": {
    "name": "ipython",
    "version": 3
   },
   "file_extension": ".py",
   "mimetype": "text/x-python",
   "name": "python",
   "nbconvert_exporter": "python",
   "pygments_lexer": "ipython3",
   "version": "3.9.7"
  }
 },
 "nbformat": 4,
 "nbformat_minor": 5
}
